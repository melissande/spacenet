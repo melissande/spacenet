{
 "cells": [
  {
   "cell_type": "code",
   "execution_count": 12,
   "metadata": {},
   "outputs": [],
   "source": [
    "from matplotlib.collections import PatchCollection\n",
    "from matplotlib.patches import Polygon\n",
    "import matplotlib.pyplot as plt\n",
    "from geojson_to_pixel_arr import geojson_to_pixel_arr\n",
    "import cv2\n",
    "import numpy as np\n"
   ]
  },
  {
   "cell_type": "code",
   "execution_count": 13,
   "metadata": {},
   "outputs": [],
   "source": [
    "def plot_truth_coords(input_image, pixel_coords,   \n",
    "                  figsize=(8,8), plot_name='',\n",
    "                  add_title=False, poly_face_color='orange', \n",
    "                  poly_edge_color='red', poly_nofill_color='blue', cmap='bwr'):\n",
    "    '''Plot ground truth coordinaates, pixel_coords should be a numpy array'''\n",
    "    \n",
    "    fig, (ax0, ax1) = plt.subplots(1, 2, figsize=(2*figsize[0], figsize[1]))\n",
    "    \n",
    "    if add_title:\n",
    "        suptitle = fig.suptitle(plot_name.split('/')[-1], fontsize='large')\n",
    "    \n",
    "    # create patches\n",
    "    patches = []\n",
    "    patches_nofill = []\n",
    "    if len(pixel_coords) > 0:\n",
    "        # get patches    \n",
    "        for coord in pixel_coords:\n",
    "            patches_nofill.append(Polygon(coord, facecolor=poly_nofill_color, \n",
    "                                          edgecolor=poly_edge_color, lw=3))\n",
    "            patches.append(Polygon(coord, edgecolor=poly_edge_color, fill=True, \n",
    "                                   facecolor=poly_face_color))\n",
    "        p0 = PatchCollection(patches, alpha=0.25, match_original=True)\n",
    "        #p1 = PatchCollection(patches, alpha=0.75, match_original=True)\n",
    "        p2 = PatchCollection(patches_nofill, alpha=0.75, match_original=True)\n",
    "                   \n",
    "    # ax0: raw image\n",
    "    ax0.imshow(input_image)\n",
    "    if len(patches) > 0:\n",
    "        ax0.add_collection(p0)\n",
    "    ax0.set_title('Input Image + Ground Truth Buildings') \n",
    "    \n",
    "    # truth polygons\n",
    "    zero_arr = np.zeros(input_image.shape[:2])\n",
    "    # set background to white?\n",
    "    #zero_arr[zero_arr == 0.0] = np.nan\n",
    "    ax1.imshow(zero_arr, cmap=cmap)\n",
    "    if len(patches) > 0:\n",
    "        ax1.add_collection(p2)\n",
    "    ax1.set_title('Ground Truth Building Polygons')\n",
    "        \n",
    "    #plt.axis('off')\n",
    "    plt.tight_layout()\n",
    "    if add_title:\n",
    "        suptitle.set_y(0.95)\n",
    "        fig.subplots_adjust(top=0.96)\n",
    "    #plt.show()\n",
    " \n",
    "    if len(plot_name) > 0:\n",
    "        plt.savefig(plot_name)\n",
    "    \n",
    "    return patches, patches_nofill"
   ]
  },
  {
   "cell_type": "code",
   "execution_count": 14,
   "metadata": {},
   "outputs": [
    {
     "ename": "TypeError",
     "evalue": "Image data cannot be converted to float",
     "output_type": "error",
     "traceback": [
      "\u001b[0;31m---------------------------------------------------------------------------\u001b[0m",
      "\u001b[0;31mTypeError\u001b[0m                                 Traceback (most recent call last)",
      "\u001b[0;32m<ipython-input-14-e5403f497aa0>\u001b[0m in \u001b[0;36m<module>\u001b[0;34m()\u001b[0m\n\u001b[1;32m      8\u001b[0m     patches, patches_nofill=plot_truth_coords(raster_file, pixel_coords,figsize=(8,8), plot_name='test_patch_5142',\n\u001b[1;32m      9\u001b[0m                                               \u001b[0madd_title\u001b[0m\u001b[0;34m=\u001b[0m\u001b[0;32mTrue\u001b[0m\u001b[0;34m,\u001b[0m \u001b[0mpoly_face_color\u001b[0m\u001b[0;34m=\u001b[0m\u001b[0;34m'orange'\u001b[0m\u001b[0;34m,\u001b[0m \u001b[0mpoly_edge_color\u001b[0m\u001b[0;34m=\u001b[0m\u001b[0;34m'red'\u001b[0m\u001b[0;34m,\u001b[0m\u001b[0;34m\u001b[0m\u001b[0m\n\u001b[0;32m---> 10\u001b[0;31m                                               poly_nofill_color='blue', cmap='bwr')\n\u001b[0m",
      "\u001b[0;32m<ipython-input-13-2e7d4e1f4229>\u001b[0m in \u001b[0;36mplot_truth_coords\u001b[0;34m(input_image, pixel_coords, figsize, plot_name, add_title, poly_face_color, poly_edge_color, poly_nofill_color, cmap)\u001b[0m\n\u001b[1;32m     25\u001b[0m \u001b[0;34m\u001b[0m\u001b[0m\n\u001b[1;32m     26\u001b[0m     \u001b[0;31m# ax0: raw image\u001b[0m\u001b[0;34m\u001b[0m\u001b[0;34m\u001b[0m\u001b[0m\n\u001b[0;32m---> 27\u001b[0;31m     \u001b[0max0\u001b[0m\u001b[0;34m.\u001b[0m\u001b[0mimshow\u001b[0m\u001b[0;34m(\u001b[0m\u001b[0minput_image\u001b[0m\u001b[0;34m)\u001b[0m\u001b[0;34m\u001b[0m\u001b[0m\n\u001b[0m\u001b[1;32m     28\u001b[0m     \u001b[0;32mif\u001b[0m \u001b[0mlen\u001b[0m\u001b[0;34m(\u001b[0m\u001b[0mpatches\u001b[0m\u001b[0;34m)\u001b[0m \u001b[0;34m>\u001b[0m \u001b[0;36m0\u001b[0m\u001b[0;34m:\u001b[0m\u001b[0;34m\u001b[0m\u001b[0m\n\u001b[1;32m     29\u001b[0m         \u001b[0max0\u001b[0m\u001b[0;34m.\u001b[0m\u001b[0madd_collection\u001b[0m\u001b[0;34m(\u001b[0m\u001b[0mp0\u001b[0m\u001b[0;34m)\u001b[0m\u001b[0;34m\u001b[0m\u001b[0m\n",
      "\u001b[0;32m~/.conda/envs/env_dhi/lib/python3.6/site-packages/matplotlib/__init__.py\u001b[0m in \u001b[0;36minner\u001b[0;34m(ax, *args, **kwargs)\u001b[0m\n\u001b[1;32m   1715\u001b[0m                     warnings.warn(msg % (label_namer, func.__name__),\n\u001b[1;32m   1716\u001b[0m                                   RuntimeWarning, stacklevel=2)\n\u001b[0;32m-> 1717\u001b[0;31m             \u001b[0;32mreturn\u001b[0m \u001b[0mfunc\u001b[0m\u001b[0;34m(\u001b[0m\u001b[0max\u001b[0m\u001b[0;34m,\u001b[0m \u001b[0;34m*\u001b[0m\u001b[0margs\u001b[0m\u001b[0;34m,\u001b[0m \u001b[0;34m**\u001b[0m\u001b[0mkwargs\u001b[0m\u001b[0;34m)\u001b[0m\u001b[0;34m\u001b[0m\u001b[0m\n\u001b[0m\u001b[1;32m   1718\u001b[0m         \u001b[0mpre_doc\u001b[0m \u001b[0;34m=\u001b[0m \u001b[0minner\u001b[0m\u001b[0;34m.\u001b[0m\u001b[0m__doc__\u001b[0m\u001b[0;34m\u001b[0m\u001b[0m\n\u001b[1;32m   1719\u001b[0m         \u001b[0;32mif\u001b[0m \u001b[0mpre_doc\u001b[0m \u001b[0;32mis\u001b[0m \u001b[0;32mNone\u001b[0m\u001b[0;34m:\u001b[0m\u001b[0;34m\u001b[0m\u001b[0m\n",
      "\u001b[0;32m~/.conda/envs/env_dhi/lib/python3.6/site-packages/matplotlib/axes/_axes.py\u001b[0m in \u001b[0;36mimshow\u001b[0;34m(self, X, cmap, norm, aspect, interpolation, alpha, vmin, vmax, origin, extent, shape, filternorm, filterrad, imlim, resample, url, **kwargs)\u001b[0m\n\u001b[1;32m   5129\u001b[0m                               resample=resample, **kwargs)\n\u001b[1;32m   5130\u001b[0m \u001b[0;34m\u001b[0m\u001b[0m\n\u001b[0;32m-> 5131\u001b[0;31m         \u001b[0mim\u001b[0m\u001b[0;34m.\u001b[0m\u001b[0mset_data\u001b[0m\u001b[0;34m(\u001b[0m\u001b[0mX\u001b[0m\u001b[0;34m)\u001b[0m\u001b[0;34m\u001b[0m\u001b[0m\n\u001b[0m\u001b[1;32m   5132\u001b[0m         \u001b[0mim\u001b[0m\u001b[0;34m.\u001b[0m\u001b[0mset_alpha\u001b[0m\u001b[0;34m(\u001b[0m\u001b[0malpha\u001b[0m\u001b[0;34m)\u001b[0m\u001b[0;34m\u001b[0m\u001b[0m\n\u001b[1;32m   5133\u001b[0m         \u001b[0;32mif\u001b[0m \u001b[0mim\u001b[0m\u001b[0;34m.\u001b[0m\u001b[0mget_clip_path\u001b[0m\u001b[0;34m(\u001b[0m\u001b[0;34m)\u001b[0m \u001b[0;32mis\u001b[0m \u001b[0;32mNone\u001b[0m\u001b[0;34m:\u001b[0m\u001b[0;34m\u001b[0m\u001b[0m\n",
      "\u001b[0;32m~/.conda/envs/env_dhi/lib/python3.6/site-packages/matplotlib/image.py\u001b[0m in \u001b[0;36mset_data\u001b[0;34m(self, A)\u001b[0m\n\u001b[1;32m    616\u001b[0m         if (self._A.dtype != np.uint8 and\n\u001b[1;32m    617\u001b[0m                 not np.can_cast(self._A.dtype, float, \"same_kind\")):\n\u001b[0;32m--> 618\u001b[0;31m             \u001b[0;32mraise\u001b[0m \u001b[0mTypeError\u001b[0m\u001b[0;34m(\u001b[0m\u001b[0;34m\"Image data cannot be converted to float\"\u001b[0m\u001b[0;34m)\u001b[0m\u001b[0;34m\u001b[0m\u001b[0m\n\u001b[0m\u001b[1;32m    619\u001b[0m \u001b[0;34m\u001b[0m\u001b[0m\n\u001b[1;32m    620\u001b[0m         if not (self._A.ndim == 2\n",
      "\u001b[0;31mTypeError\u001b[0m: Image data cannot be converted to float"
     ]
    },
    {
     "data": {
      "image/png": "[encoded data removed]",
      "text/plain": [
       "<matplotlib.figure.Figure at 0x7fe618b09eb8>"
      ]
     },
     "metadata": {},
     "output_type": "display_data"
    }
   ],
   "source": [
    "if __name__ == '__main__':\n",
    "    \n",
    "    #script_test_functions\n",
    "    path='/scratch/SPACENET_DATA/BUILDING_DATASET/processedBuildingLabels/'\n",
    "    geojson_file=path+'vectordata/geojson/Geo_AOI_1_RIO_img5142.geojson'\n",
    "    raster_file=path+'3band/3band_AOI_1_RIO_img5142.tif'\n",
    "    pixel_coords, latlon_coords=geojson_to_pixel_arr(raster_file, geojson_file, True,False)\n",
    "    img_input = cv2.imread(raster_file)\n",
    "    patches, patches_nofill=plot_truth_coords(img_input, pixel_coords,figsize=(8,8), plot_name='test_patch_5142',\n",
    "                                              add_title=True, poly_face_color='orange', poly_edge_color='red', \n",
    "                                              poly_nofill_color='blue', cmap='bwr')"
   ]
  },
  {
   "cell_type": "code",
   "execution_count": null,
   "metadata": {},
   "outputs": [],
   "source": []
  }
 ],
 "metadata": {
  "kernelspec": {
   "display_name": "env_dhi",
   "language": "python",
   "name": "env_dhi"
  },
  "language_info": {
   "codemirror_mode": {
    "name": "ipython",
    "version": 3
   },
   "file_extension": ".py",
   "mimetype": "text/x-python",
   "name": "python",
   "nbconvert_exporter": "python",
   "pygments_lexer": "ipython3",
   "version": "3.6.4"
  }
 },
 "nbformat": 4,
 "nbformat_minor": 2
}
